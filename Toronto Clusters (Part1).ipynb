{
 "cells": [
  {
   "cell_type": "markdown",
   "metadata": {},
   "source": [
    "## Part 1. Gathering the data from wiki page and pre-processing"
   ]
  },
  {
   "cell_type": "code",
   "execution_count": 1,
   "metadata": {},
   "outputs": [],
   "source": [
    "#import libraries\n",
    "\n",
    "import requests\n",
    "from bs4 import BeautifulSoup\n",
    "import pandas as pd"
   ]
  },
  {
   "cell_type": "code",
   "execution_count": 2,
   "metadata": {},
   "outputs": [],
   "source": [
    "#let's download the html code of wiki webpage\n",
    "\n",
    "wiki_page = requests.get('https://en.wikipedia.org/wiki/List_of_postal_codes_of_Canada:_M')\n",
    "soup = BeautifulSoup(wiki_page.content, 'html.parser')"
   ]
  },
  {
   "cell_type": "code",
   "execution_count": 42,
   "metadata": {},
   "outputs": [],
   "source": [
    "#all the table data are in 'tr' elements, so get them all first\n",
    "\n",
    "table_rows = soup.find_all('tr')\n",
    "\n",
    "#create an empty list to fill it with the data\n",
    "\n",
    "result = []\n",
    "\n",
    "#exctract all the 'td' elements from the 'tr'. In addition we take data which starts from row with first letter \"M\" (to be sure that this is postal code). And one more filter - skipping 'Not Assigned' Boroughs\n",
    "\n",
    "for tr in table_rows:\n",
    "    td = tr.find_all('td')\n",
    "    row = [tr.text.strip() for tr in td if tr.text.strip()]\n",
    "    if row:\n",
    "        if row[0][0] == 'M' and row[1] != 'Not assigned':\n",
    "            result.append(row)\n",
    "\n",
    "#now we have a list with the info we need. If a cell has a borough but a Not assigned neighborhood, we put the Neighbourhood name the same as the borough name\n",
    "\n",
    "for row in result:\n",
    "    if row[2] == 'Not assigned':\n",
    "        row[2] = row[1]\n",
    "        \n",
    "#creating the dataframe with the data we got so far\n",
    "\n",
    "toronto_df = pd.DataFrame(result, columns=[\"Postcode\", \"Borough\", \"Neighbourhood\"])"
   ]
  },
  {
   "cell_type": "code",
   "execution_count": 43,
   "metadata": {},
   "outputs": [
    {
     "name": "stdout",
     "output_type": "stream",
     "text": [
      "(211, 3)\n",
      "  Postcode           Borough     Neighbourhood\n",
      "0      M3A        North York         Parkwoods\n",
      "1      M4A        North York  Victoria Village\n",
      "2      M5A  Downtown Toronto      Harbourfront\n",
      "3      M5A  Downtown Toronto       Regent Park\n",
      "4      M6A        North York  Lawrence Heights\n"
     ]
    }
   ],
   "source": [
    "#check the shape of DF\n",
    "\n",
    "print(toronto_df.shape)\n",
    "print(toronto_df.head())"
   ]
  },
  {
   "cell_type": "code",
   "execution_count": 44,
   "metadata": {},
   "outputs": [
    {
     "name": "stdout",
     "output_type": "stream",
     "text": [
      "['M3A' 'M4A' 'M5A' 'M6A' 'M7A' 'M9A' 'M1B' 'M3B' 'M4B' 'M5B' 'M6B' 'M9B'\n",
      " 'M1C' 'M3C' 'M4C' 'M5C' 'M6C' 'M9C' 'M1E' 'M4E' 'M5E' 'M6E' 'M1G' 'M4G'\n",
      " 'M5G' 'M6G' 'M1H' 'M2H' 'M3H' 'M4H' 'M5H' 'M6H' 'M1J' 'M2J' 'M3J' 'M4J'\n",
      " 'M5J' 'M6J' 'M1K' 'M2K' 'M3K' 'M4K' 'M5K' 'M6K' 'M1L' 'M2L' 'M3L' 'M4L'\n",
      " 'M5L' 'M6L' 'M9L' 'M1M' 'M2M' 'M3M' 'M4M' 'M5M' 'M6M' 'M9M' 'M1N' 'M2N'\n",
      " 'M3N' 'M4N' 'M5N' 'M6N' 'M9N' 'M1P' 'M2P' 'M4P' 'M5P' 'M6P' 'M9P' 'M1R'\n",
      " 'M2R' 'M4R' 'M5R' 'M6R' 'M7R' 'M9R' 'M1S' 'M4S' 'M5S' 'M6S' 'M1T' 'M4T'\n",
      " 'M5T' 'M1V' 'M4V' 'M5V' 'M8V' 'M9V' 'M1W' 'M4W' 'M5W' 'M8W' 'M9W' 'M1X'\n",
      " 'M4X' 'M5X' 'M8X' 'M4Y' 'M7Y' 'M8Y' 'M8Z']\n"
     ]
    }
   ],
   "source": [
    "#create a new DF to populate it with unique Postcodes from the list \"postcodes\"\n",
    "\n",
    "new_df = pd.DataFrame(columns=[\"Postcode\", \"Neighbourhood\"])\n",
    "postcodes = toronto_df['Postcode'].unique()\n",
    "\n",
    "print(postcodes)"
   ]
  },
  {
   "cell_type": "code",
   "execution_count": 45,
   "metadata": {},
   "outputs": [
    {
     "name": "stdout",
     "output_type": "stream",
     "text": [
      "  Postcode                     Neighbourhood\n",
      "0      M3A                         Parkwoods\n",
      "1      M4A                  Victoria Village\n",
      "2      M5A         Harbourfront, Regent Park\n",
      "3      M6A  Lawrence Heights, Lawrence Manor\n",
      "4      M7A                      Queen's Park\n",
      "(103, 2)\n"
     ]
    }
   ],
   "source": [
    "#add the postcode and all the Neighbourhoods belong to it into the \"new_df\" DataFrame\n",
    "\n",
    "for code in postcodes:\n",
    "    neighbourhoods = \", \".join(toronto_df[toronto_df['Postcode'] == code]['Neighbourhood'])\n",
    "    new_df = new_df.append({\"Postcode\" : code, \"Neighbourhood\": str(neighbourhoods)}, ignore_index=True)\n",
    "    \n",
    "print(new_df.head())\n",
    "print(new_df.shape)"
   ]
  },
  {
   "cell_type": "code",
   "execution_count": 47,
   "metadata": {},
   "outputs": [],
   "source": [
    "#let's drop the duplicated postcodes from the original DataFrame\n",
    "\n",
    "toronto_df = toronto_df.drop_duplicates(subset=['Postcode'])"
   ]
  },
  {
   "cell_type": "code",
   "execution_count": 48,
   "metadata": {},
   "outputs": [],
   "source": [
    "# finally we merge two df with unique Postcodes and all the related neighbourhoods combined\n",
    "toronto_df = pd.merge(toronto_df, new_df, on = 'Postcode')\n",
    "toronto_df = toronto_df.drop(['Neighbourhood_x'], axis = 1)\n",
    "toronto_df = toronto_df.rename(columns={'Neighbourhood_y': ' Neighbourhood'})"
   ]
  },
  {
   "cell_type": "code",
   "execution_count": 49,
   "metadata": {},
   "outputs": [
    {
     "name": "stdout",
     "output_type": "stream",
     "text": [
      "  Postcode           Borough                     Neighbourhood\n",
      "0      M3A        North York                         Parkwoods\n",
      "1      M4A        North York                  Victoria Village\n",
      "2      M5A  Downtown Toronto         Harbourfront, Regent Park\n",
      "3      M6A        North York  Lawrence Heights, Lawrence Manor\n",
      "4      M7A      Queen's Park                      Queen's Park\n"
     ]
    }
   ],
   "source": [
    "print(toronto_df.head())"
   ]
  },
  {
   "cell_type": "code",
   "execution_count": 50,
   "metadata": {},
   "outputs": [
    {
     "name": "stdout",
     "output_type": "stream",
     "text": [
      "(103, 3)\n"
     ]
    }
   ],
   "source": [
    "print(toronto_df.shape)"
   ]
  }
 ],
 "metadata": {
  "kernelspec": {
   "display_name": "Python 3.6",
   "language": "python",
   "name": "python3"
  },
  "language_info": {
   "codemirror_mode": {
    "name": "ipython",
    "version": 3
   },
   "file_extension": ".py",
   "mimetype": "text/x-python",
   "name": "python",
   "nbconvert_exporter": "python",
   "pygments_lexer": "ipython3",
   "version": "3.6.8"
  }
 },
 "nbformat": 4,
 "nbformat_minor": 1
}
